{
 "cells": [
  {
   "cell_type": "code",
   "execution_count": null,
   "metadata": {},
   "outputs": [
    {
     "ename": "",
     "evalue": "",
     "output_type": "error",
     "traceback": [
      "\u001b[1;31mFailed to start the Kernel. \n",
      "\u001b[1;31mImportError: /home/lucas/miniconda3/envs/torch_gpu/lib/python3.12/lib-dynload/_sqlite3.cpython-312-x86_64-linux-gnu.so: undefined symbol: sqlite3_deserialize. \n",
      "\u001b[1;31mView Jupyter <a href='command:jupyter.viewOutput'>log</a> for further details."
     ]
    }
   ],
   "source": [
    "import torch"
   ]
  },
  {
   "cell_type": "code",
   "execution_count": null,
   "metadata": {},
   "outputs": [],
   "source": [
    "from kmnist_model import KMNISTModel\n",
    "from trainer import KMNISTTrainer"
   ]
  },
  {
   "cell_type": "code",
   "execution_count": null,
   "metadata": {},
   "outputs": [],
   "source": [
    "class AdamConfig:\n",
    "    def __init__(self):\n",
    "        # Default Adam parameters\n",
    "        self.learning_rate = 1e-3\n",
    "        self.beta1 = 0.9\n",
    "        self.beta2 = 0.999\n",
    "        self.eps = 1e-8\n",
    "        self.weight_decay = 0.0\n",
    "\n",
    "        # Ranges for hyperparameter tuning (Optuna)\n",
    "        self.lr_range = [1e-5, 1e-2]\n",
    "        self.beta1_range = [0.7, 0.99]\n",
    "        self.beta2_range = [0.8, 0.9999]\n",
    "        self.weight_decay_range = [1e-6, 1e-2]"
   ]
  }
 ],
 "metadata": {
  "kernelspec": {
   "display_name": "torch_gpu",
   "language": "python",
   "name": "python3"
  },
  "language_info": {
   "name": "python",
   "version": "3.12.2"
  }
 },
 "nbformat": 4,
 "nbformat_minor": 2
}
